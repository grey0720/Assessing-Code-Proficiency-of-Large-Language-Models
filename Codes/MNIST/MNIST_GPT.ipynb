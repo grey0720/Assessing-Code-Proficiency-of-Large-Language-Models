{
 "cells": [
  {
   "cell_type": "markdown",
   "metadata": {
    "colab": {
     "base_uri": "https://localhost:8080/"
    },
    "executionInfo": {
     "elapsed": 20878,
     "status": "ok",
     "timestamp": 1706861197680,
     "user": {
      "displayName": "수댕구",
      "userId": "08176981148858936177"
     },
     "user_tz": -540
    },
    "id": "z3OECf972pai",
    "outputId": "7cbd1605-04e4-45e9-c67e-9c8eb7238956"
   },
   "source": [
    "import pandas as pd\n",
    "import matplotlib.pyplot as plt\n",
    "from google.colab import drive\n",
    "drive.mount('/content/drive')"
   ]
  },
  {
   "cell_type": "code",
   "execution_count": 1,
   "metadata": {
    "colab": {
     "base_uri": "https://localhost:8080/"
    },
    "executionInfo": {
     "elapsed": 7008,
     "status": "ok",
     "timestamp": 1706866453927,
     "user": {
      "displayName": "수댕구",
      "userId": "08176981148858936177"
     },
     "user_tz": -540
    },
    "id": "UxWFUu-D0JR7",
    "outputId": "f2b57f1d-8174-43d2-859e-097579fd1623"
   },
   "outputs": [
    {
     "name": "stdout",
     "output_type": "stream",
     "text": [
      "Training data shape: (42000, 784)\n",
      "Training labels shape: (42000,)\n",
      "Testing data shape: (28000, 784)\n"
     ]
    }
   ],
   "source": [
    "import pandas as pd\n",
    "\n",
    "# Load the training and testing data\n",
    "train_data = pd.read_csv(\"train.csv\")\n",
    "test_data = pd.read_csv(\"test.csv\")\n",
    "\n",
    "# train_data = pd.read_csv(\"/content/drive/MyDrive/Colab Notebooks/Lab/MNIST/MNIST_submit/MNIST_LLM/train.csv\")\n",
    "# test_data = pd.read_csv(\"/content/drive/MyDrive/Colab Notebooks/Lab/MNIST/MNIST_submit/MNIST_LLM/test.csv\")\n",
    "\n",
    "label = train_data['label'].values\n",
    "train_data.drop(['label'], axis = 1, inplace = True)\n",
    "train_data = train_data/255.0\n",
    "\n",
    "test_data = test_data.values\n",
    "test_data = test_data / 255.0\n",
    "\n",
    "\n",
    "# Print the shape of the data\n",
    "print(\"Training data shape:\", train_data.shape)\n",
    "print(\"Training labels shape:\", label.shape)\n",
    "print(\"Testing data shape:\", test_data.shape)"
   ]
  },
  {
   "cell_type": "code",
   "execution_count": 2,
   "metadata": {},
   "outputs": [],
   "source": [
    "# Random Forest, Xgboost, Voting Ensemble\n",
    "'''\n",
    "I've already completed feature engineering and conducted data preprocessing of MNIST dataset. \n",
    "In my opinion, hyperparameter tuning is the most effective method for improving performance. \n",
    "Find tools and Python code for hyperparameter tuning of Random Forest, XGBoost, and a voting ensemble of Random Forest and XGBoost.\n",
    "'''\n",
    "import numpy as np\n",
    "from sklearn.ensemble import RandomForestClassifier, VotingClassifier\n",
    "from sklearn.model_selection import GridSearchCV, train_test_split\n",
    "from sklearn.metrics import accuracy_score\n",
    "import xgboost as xgb\n",
    "\n",
    "# Load your data\n",
    "X_train, X_test, y_train, y_test = train_test_split(train_data, label, test_size=0.2, random_state=42)"
   ]
  },
  {
   "cell_type": "code",
   "execution_count": 3,
   "metadata": {},
   "outputs": [
    {
     "name": "stderr",
     "output_type": "stream",
     "text": [
      "\n",
      "KeyboardInterrupt\n",
      "\n"
     ]
    }
   ],
   "source": [
    "import xgboost\n",
    "from sklearn.ensemble import RandomForestClassifier\n",
    "from sklearn.ensemble import VotingClassifier\n",
    "from sklearn.metrics import classification_report, accuracy_score\n",
    "\n",
    "#radom forest\n",
    "rmf = RandomForestClassifier()\n",
    "rmf.fit(X_train, y_train)\n",
    "Y_pred = rmf.predict(X_test)\n",
    "rmf.score(X_test, y_test)\n",
    "acc_rmf = round(rmf.score(X_test, y_test) * 100, 2)\n",
    "acc_rmf"
   ]
  },
  {
   "cell_type": "code",
   "execution_count": 5,
   "metadata": {},
   "outputs": [
    {
     "data": {
      "text/plain": [
       "97.39"
      ]
     },
     "execution_count": 5,
     "metadata": {},
     "output_type": "execute_result"
    }
   ],
   "source": [
    "#xgboost\n",
    "xgb = xgboost.XGBClassifier(tree_method='gpu_hist', gpu_id=0)\n",
    "xgb.fit(X_train, y_train)\n",
    "Y_pred = xgb.predict(X_test)\n",
    "xgb.score(X_test, y_test)\n",
    "acc_xgb = round(xgb.score(X_test, y_test) * 100, 2)\n",
    "acc_xgb"
   ]
  },
  {
   "cell_type": "code",
   "execution_count": 6,
   "metadata": {},
   "outputs": [
    {
     "data": {
      "text/plain": [
       "97.43"
      ]
     },
     "execution_count": 6,
     "metadata": {},
     "output_type": "execute_result"
    }
   ],
   "source": [
    "#ensemble model -> randomforest, xgboost 모두 100퍼센트 나옴\n",
    "from sklearn.ensemble import VotingClassifier\n",
    "\n",
    "ves = VotingClassifier(estimators=[(\"Random Forest\",rmf),\n",
    "                                               (\"XGBoost\",xgb)],\n",
    "                                  voting = 'soft')\n",
    "ves.fit(X_train,y_train)\n",
    "Y_pred_ves = ves.predict(X_test)\n",
    "acc_ves = round(ves.score(X_test,y_test) * 100, 2)\n",
    "acc_ves"
   ]
  },
  {
   "cell_type": "code",
   "execution_count": 11,
   "metadata": {},
   "outputs": [],
   "source": [
    "sample = pd.read_csv('./sample_submission.csv')\n",
    "ImageId = sample['ImageId']\n",
    "\n",
    "Y_pred_rmf = rmf.predict(test_data)\n",
    "submission = pd.DataFrame({\n",
    "    \"ImageId\" : ImageId,\n",
    "    \"Label\" : Y_pred_rmf\n",
    "})\n",
    "submission.to_csv('submission_rmf.csv', index = False)\n",
    "\n",
    "Y_pred_xgb = xgb.predict(test_data)\n",
    "submission = pd.DataFrame({\n",
    "    \"ImageId\" : ImageId,\n",
    "    \"Label\" : Y_pred_xgb\n",
    "})\n",
    "submission.to_csv('submission_xgb.csv', index = False)\n",
    "\n",
    "Y_pred_ves = ves.predict(test_data)\n",
    "submission = pd.DataFrame({\n",
    "    \"ImageId\" : ImageId,\n",
    "    \"Label\" : Y_pred_ves\n",
    "})\n",
    "submission.to_csv('submission_ves.csv', index = False)"
   ]
  },
  {
   "cell_type": "markdown",
   "metadata": {},
   "source": [
    "### HyperTuning"
   ]
  },
  {
   "cell_type": "code",
   "execution_count": 9,
   "metadata": {},
   "outputs": [
    {
     "name": "stderr",
     "output_type": "stream",
     "text": [
      "/home/dummy/.local/lib/python3.10/site-packages/sklearn/model_selection/_validation.py:542: FitFailedWarning: \n",
      "405 fits failed out of a total of 1215.\n",
      "The score on these train-test partitions for these parameters will be set to nan.\n",
      "If these failures are not expected, you can try to debug them by setting error_score='raise'.\n",
      "\n",
      "Below are more details about the failures:\n",
      "--------------------------------------------------------------------------------\n",
      "405 fits failed with the following error:\n",
      "Traceback (most recent call last):\n",
      "  File \"/home/dummy/.local/lib/python3.10/site-packages/sklearn/model_selection/_validation.py\", line 890, in _fit_and_score\n",
      "    estimator.fit(X_train, y_train, **fit_params)\n",
      "  File \"/home/dummy/.local/lib/python3.10/site-packages/sklearn/base.py\", line 1344, in wrapper\n",
      "    estimator._validate_params()\n",
      "  File \"/home/dummy/.local/lib/python3.10/site-packages/sklearn/base.py\", line 666, in _validate_params\n",
      "    validate_parameter_constraints(\n",
      "  File \"/home/dummy/.local/lib/python3.10/site-packages/sklearn/utils/_param_validation.py\", line 95, in validate_parameter_constraints\n",
      "    raise InvalidParameterError(\n",
      "sklearn.utils._param_validation.InvalidParameterError: The 'max_features' parameter of RandomForestClassifier must be an int in the range [1, inf), a float in the range (0.0, 1.0], a str among {'sqrt', 'log2'} or None. Got 'auto' instead.\n",
      "\n",
      "  warnings.warn(some_fits_failed_message, FitFailedWarning)\n",
      "/home/dummy/.local/lib/python3.10/site-packages/sklearn/model_selection/_search.py:1051: UserWarning: One or more of the test scores are non-finite: [       nan        nan        nan        nan        nan        nan\n",
      "        nan        nan        nan        nan        nan        nan\n",
      "        nan        nan        nan        nan        nan        nan\n",
      "        nan        nan        nan        nan        nan        nan\n",
      "        nan        nan        nan 0.94318452 0.94526786 0.94443452\n",
      " 0.94327381 0.94407738 0.94494048 0.9425     0.94392857 0.94440476\n",
      " 0.94267857 0.94440476 0.94544643 0.94395833 0.94458333 0.94497024\n",
      " 0.94375    0.94303571 0.94342262 0.94235119 0.94339286 0.94345238\n",
      " 0.94270833 0.94333333 0.94333333 0.9425     0.94321429 0.94294643\n",
      " 0.93452381 0.93901786 0.93892857 0.93705357 0.93830357 0.93880952\n",
      " 0.93535714 0.93818452 0.93839286 0.93613095 0.93797619 0.93988095\n",
      " 0.93657738 0.93806548 0.93895833 0.93547619 0.93764881 0.93776786\n",
      " 0.93571429 0.93681548 0.93785714 0.93532738 0.93669643 0.9378869\n",
      " 0.93464286 0.93747024 0.938125          nan        nan        nan\n",
      "        nan        nan        nan        nan        nan        nan\n",
      "        nan        nan        nan        nan        nan        nan\n",
      "        nan        nan        nan        nan        nan        nan\n",
      "        nan        nan        nan        nan        nan        nan\n",
      " 0.96235119 0.9622619  0.96348214 0.96083333 0.96139881 0.9616369\n",
      " 0.95904762 0.95955357 0.95940476 0.95827381 0.96032738 0.96145833\n",
      " 0.95904762 0.96011905 0.96044643 0.95639881 0.9583631  0.95869048\n",
      " 0.95592262 0.95693452 0.95735119 0.95544643 0.95642857 0.95672619\n",
      " 0.95491071 0.95559524 0.95681548 0.95747024 0.960625   0.96154762\n",
      " 0.95776786 0.95952381 0.95958333 0.9558631  0.95741071 0.95741071\n",
      " 0.95625    0.95690476 0.95791667 0.95574405 0.95684524 0.95758929\n",
      " 0.95395833 0.95517857 0.95610119 0.95196429 0.95300595 0.95383929\n",
      " 0.95139881 0.95205357 0.95327381 0.9508631  0.95270833 0.95345238\n",
      "        nan        nan        nan        nan        nan        nan\n",
      "        nan        nan        nan        nan        nan        nan\n",
      "        nan        nan        nan        nan        nan        nan\n",
      "        nan        nan        nan        nan        nan        nan\n",
      "        nan        nan        nan 0.96107143 0.963125   0.96318452\n",
      " 0.96044643 0.96217262 0.96217262 0.95880952 0.95988095 0.96056548\n",
      " 0.95943452 0.96172619 0.96130952 0.9589881  0.96080357 0.96136905\n",
      " 0.95738095 0.95797619 0.95863095 0.95639881 0.95693452 0.95800595\n",
      " 0.95565476 0.9566369  0.95779762 0.95497024 0.95598214 0.9560119\n",
      " 0.9583631  0.96130952 0.96184524 0.95842262 0.96041667 0.96095238\n",
      " 0.95651786 0.95729167 0.95770833 0.9575     0.9571131  0.95791667\n",
      " 0.9553869  0.95764881 0.95886905 0.95401786 0.95526786 0.95565476\n",
      " 0.95193452 0.95333333 0.95389881 0.95217262 0.95377976 0.95360119\n",
      " 0.95151786 0.95208333 0.9528869 ]\n",
      "  warnings.warn(\n"
     ]
    }
   ],
   "source": [
    "# Hyperparameter tuning for Random Forest\n",
    "rf = RandomForestClassifier()\n",
    "rf_param_grid = {\n",
    "    'n_estimators': [100, 200, 300],\n",
    "    'max_depth': [10, 20, None],\n",
    "    'min_samples_split': [2, 5, 10],\n",
    "    'min_samples_leaf': [1, 2, 4],\n",
    "    'max_features': ['auto', 'sqrt', 'log2']\n",
    "}\n",
    "rf_grid = GridSearchCV(rf, rf_param_grid, cv=5, scoring='accuracy')\n",
    "rf_grid.fit(X_train, y_train)\n",
    "best_rf = rf_grid.best_estimator_"
   ]
  },
  {
   "cell_type": "code",
   "execution_count": 10,
   "metadata": {},
   "outputs": [
    {
     "name": "stdout",
     "output_type": "stream",
     "text": [
      "{'max_depth': 20, 'max_features': 'sqrt', 'min_samples_leaf': 1, 'min_samples_split': 2, 'n_estimators': 300}\n"
     ]
    }
   ],
   "source": [
    "print(rf_grid.best_params_)"
   ]
  },
  {
   "cell_type": "code",
   "execution_count": 11,
   "metadata": {},
   "outputs": [],
   "source": [
    "# Hyperparameter tuning for XGBoost\n",
    "# xgb_model = xgb.XGBClassifier(tree_method='gpu_hist', gpu_id=0)\n",
    "xgb_param_grid = {\n",
    "    'n_estimators': [100, 200, 300],\n",
    "    'max_depth': [3, 5, 7],\n",
    "    'learning_rate': [0.01, 0.1, 0.3],\n",
    "    'subsample': [0.7, 0.9],\n",
    "    'colsample_bytree': [0.7, 0.9]\n",
    "}\n",
    "xgb_grid = GridSearchCV(xgb, xgb_param_grid, cv=5, scoring='accuracy')\n",
    "xgb_grid.fit(X_train, y_train)\n",
    "best_xgb = xgb_grid.best_estimator_"
   ]
  },
  {
   "cell_type": "code",
   "execution_count": 12,
   "metadata": {},
   "outputs": [
    {
     "data": {
      "text/plain": [
       "{'colsample_bytree': 0.7,\n",
       " 'learning_rate': 0.3,\n",
       " 'max_depth': 5,\n",
       " 'n_estimators': 300,\n",
       " 'subsample': 0.9}"
      ]
     },
     "execution_count": 12,
     "metadata": {},
     "output_type": "execute_result"
    }
   ],
   "source": [
    "xgb_grid.best_params_"
   ]
  },
  {
   "cell_type": "code",
   "execution_count": 13,
   "metadata": {},
   "outputs": [
    {
     "name": "stdout",
     "output_type": "stream",
     "text": [
      "Random Forest Accuracy: 0.964047619047619\n",
      "XGBoost Accuracy: 0.9761904761904762\n",
      "Voting Ensemble Accuracy: 0.9758333333333333\n"
     ]
    }
   ],
   "source": [
    "# Create a voting ensemble\n",
    "voting_ensemble = VotingClassifier(\n",
    "    estimators=[('rf', best_rf), ('xgb', best_xgb)],\n",
    "    voting='soft'  # Choose 'hard' or 'soft' voting strategy\n",
    ")\n",
    "voting_ensemble.fit(X_train, y_train)\n",
    "\n",
    "# Evaluate the models\n",
    "y_pred_rf = best_rf.predict(X_test)\n",
    "y_pred_xgb = best_xgb.predict(X_test)\n",
    "y_pred_ensemble = voting_ensemble.predict(X_test)\n",
    "\n",
    "print(\"Random Forest Accuracy:\", accuracy_score(y_test, y_pred_rf))\n",
    "print(\"XGBoost Accuracy:\", accuracy_score(y_test, y_pred_xgb))\n",
    "print(\"Voting Ensemble Accuracy:\", accuracy_score(y_test, y_pred_ensemble))"
   ]
  },
  {
   "cell_type": "code",
   "execution_count": 16,
   "metadata": {},
   "outputs": [
    {
     "data": {
      "text/plain": [
       "['./gpt_vt_HP.pkl']"
      ]
     },
     "execution_count": 16,
     "metadata": {},
     "output_type": "execute_result"
    }
   ],
   "source": [
    "import joblib\n",
    "\n",
    "joblib.dump(best_rf,'./gpt_rf_HP.pkl')\n",
    "joblib.dump(best_xgb,'./gpt_xgb_HP.pkl')\n",
    "joblib.dump(voting_ensemble,'./gpt_vt_HP.pkl')"
   ]
  },
  {
   "cell_type": "code",
   "execution_count": null,
   "metadata": {},
   "outputs": [],
   "source": [
    "sample = pd.read_csv('./sample_submission.csv')\n",
    "ImageId = sample['ImageId']\n",
    "\n",
    "Y_pred_rmf = best_rf.predict(df_test)\n",
    "submission = pd.DataFrame({\n",
    "    \"ImageId\" : ImageId,\n",
    "    \"Label\" : Y_pred_rmf\n",
    "})\n",
    "submission.to_csv('submission_rmf.csv', index = False)\n",
    "\n",
    "Y_pred_xgb = best_xgb.predict(df_test)\n",
    "submission = pd.DataFrame({\n",
    "    \"ImageId\" : ImageId,\n",
    "    \"Label\" : Y_pred_xgb\n",
    "})\n",
    "submission.to_csv('submission_xgb.csv', index = False)\n",
    "\n",
    "Y_pred_ves = voting_ensemble.predict(df_test)\n",
    "submission = pd.DataFrame({\n",
    "    \"ImageId\" : ImageId,\n",
    "    \"Label\" : Y_pred_ves\n",
    "})\n",
    "submission.to_csv('submission_ves.csv', index = False)"
   ]
  },
  {
   "cell_type": "markdown",
   "metadata": {},
   "source": [
    "### Build CNN model"
   ]
  },
  {
   "cell_type": "code",
   "execution_count": 3,
   "metadata": {
    "colab": {
     "base_uri": "https://localhost:8080/"
    },
    "executionInfo": {
     "elapsed": 7929,
     "status": "ok",
     "timestamp": 1706866393209,
     "user": {
      "displayName": "수댕구",
      "userId": "08176981148858936177"
     },
     "user_tz": -540
    },
    "id": "2qfvuHGt0Nu-",
    "outputId": "880dfab8-5567-4bc1-e398-954e02a613fb"
   },
   "outputs": [
    {
     "data": {
      "text/plain": [
       "'\\nimport pandas as pd\\n\\n# Load the training and testing data\\n# train_data = pd.read_csv(\"train.csv\")\\n# test_data = pd.read_csv(\"test.csv\")\\n\\n# Concatenate train and test datasets\\ncombined_data = pd.concat([train_data, test_data], axis=0)\\n\\n# Find missing values\\nmissing_values = combined_data.isnull().sum()\\nprint(\"Missing values:\")\\nprint(missing_values)\\n\\n# Handle missing values (for example, dropping rows with missing values)\\ncombined_data.dropna(inplace=True)\\n\\n# Separate back into train and test datasets\\ntrain_data = combined_data.iloc[:len(train_data)]\\ntest_data = combined_data.iloc[len(train_data):]\\n\\n# Verify that missing values are handled\\nprint(\"\\nAfter handling missing values:\")\\nmissing_values_after_handling = combined_data.isnull().sum()\\nprint(\"Missing values:\")\\nprint(missing_values_after_handling)\\n\\n# Optionally, you can save the modified train and test datasets to new CSV files\\ntrain_data.to_csv(\"train_clean.csv\", index=False)\\ntest_data.to_csv(\"test_clean.csv\", index=False)\\n'"
      ]
     },
     "execution_count": 3,
     "metadata": {},
     "output_type": "execute_result"
    }
   ],
   "source": [
    "# test_data 가 빈 데이터로 변하는 현상 확인함.\n",
    "# 보류\n",
    "'''\n",
    "import pandas as pd\n",
    "\n",
    "# Load the training and testing data\n",
    "# train_data = pd.read_csv(\"train.csv\")\n",
    "# test_data = pd.read_csv(\"test.csv\")\n",
    "\n",
    "# Concatenate train and test datasets\n",
    "combined_data = pd.concat([train_data, test_data], axis=0)\n",
    "\n",
    "# Find missing values\n",
    "missing_values = combined_data.isnull().sum()\n",
    "print(\"Missing values:\")\n",
    "print(missing_values)\n",
    "\n",
    "# Handle missing values (for example, dropping rows with missing values)\n",
    "combined_data.dropna(inplace=True)\n",
    "\n",
    "# Separate back into train and test datasets\n",
    "train_data = combined_data.iloc[:len(train_data)]\n",
    "test_data = combined_data.iloc[len(train_data):]\n",
    "\n",
    "# Verify that missing values are handled\n",
    "print(\"\\nAfter handling missing values:\")\n",
    "missing_values_after_handling = combined_data.isnull().sum()\n",
    "print(\"Missing values:\")\n",
    "print(missing_values_after_handling)\n",
    "\n",
    "# Optionally, you can save the modified train and test datasets to new CSV files\n",
    "train_data.to_csv(\"train_clean.csv\", index=False)\n",
    "test_data.to_csv(\"test_clean.csv\", index=False)\n",
    "'''"
   ]
  },
  {
   "cell_type": "code",
   "execution_count": 4,
   "metadata": {
    "colab": {
     "base_uri": "https://localhost:8080/"
    },
    "executionInfo": {
     "elapsed": 1251,
     "status": "ok",
     "timestamp": 1706866484724,
     "user": {
      "displayName": "수댕구",
      "userId": "08176981148858936177"
     },
     "user_tz": -540
    },
    "id": "Nyq5deqf5q2q",
    "outputId": "7a8580b9-6356-4e87-ec7c-38ce7c50760f"
   },
   "outputs": [
    {
     "name": "stderr",
     "output_type": "stream",
     "text": [
      "2024-11-11 12:13:36.353685: I tensorflow/core/platform/cpu_feature_guard.cc:182] This TensorFlow binary is optimized to use available CPU instructions in performance-critical operations.\n",
      "To enable the following instructions: AVX2 FMA, in other operations, rebuild TensorFlow with the appropriate compiler flags.\n",
      "2024-11-11 12:13:36.807806: W tensorflow/compiler/tf2tensorrt/utils/py_utils.cc:38] TF-TRT Warning: Could not find TensorRT\n"
     ]
    }
   ],
   "source": [
    "'''\n",
    "After handling missing values, preprocessing should be the next step.\n",
    "Find a way to preprocess datasets before training classifier.\n",
    "'''\n",
    "import pandas as pd\n",
    "import numpy as np\n",
    "from sklearn.model_selection import train_test_split\n",
    "from sklearn.preprocessing import LabelEncoder\n",
    "from tensorflow.keras.utils import to_categorical\n",
    "\n",
    "# Load the clean training and testing data\n",
    "# train_data = pd.read_csv(\"train_clean.csv\")\n",
    "# test_data = pd.read_csv(\"test_clean.csv\")\n",
    "\n",
    "'''\n",
    "# Reshape and normalize the data\n",
    "X_train = train_data.drop(columns=[\"label\"]).values.reshape(-1, 28, 28, 1).astype(np.float32) / 255.0\n",
    "X_test = test_data.values.reshape(-1, 28, 28, 1).astype(np.float32) / 255.0\n",
    "\n",
    "\n",
    "생략\n",
    "# Label encoding\n",
    "label_encoder = LabelEncoder()\n",
    "y_train = label_encoder.fit_transform(train_data[\"label\"])\n",
    "# If you want to convert numerical labels to one-hot encoded vectors, you can use:\n",
    "'''\n",
    "\n",
    "# 개발자가 임의로 추가\n",
    "train_data = train_data.values.reshape(-1,28,28,1)\n",
    "\n",
    "# Split the training data into training and validation sets\n",
    "X_train, X_val, y_train, y_val = train_test_split(train_data, label, test_size=0.2, random_state=42)"
   ]
  },
  {
   "cell_type": "code",
   "execution_count": 5,
   "metadata": {},
   "outputs": [
    {
     "name": "stdout",
     "output_type": "stream",
     "text": [
      "X_train shape: (33600, 28, 28, 1)\n",
      "y_train shape: (33600,)\n",
      "X_val shape: (8400, 28, 28, 1)\n",
      "y_val shape: (8400,)\n",
      "X_test shape: (28000, 784)\n"
     ]
    }
   ],
   "source": [
    "# Verify the shapes of the preprocessed data\n",
    "print(\"X_train shape:\", X_train.shape)\n",
    "print(\"y_train shape:\", y_train.shape)\n",
    "print(\"X_val shape:\", X_val.shape)\n",
    "print(\"y_val shape:\", y_val.shape)\n",
    "print(\"X_test shape:\", test_data.shape)"
   ]
  },
  {
   "cell_type": "code",
   "execution_count": 36,
   "metadata": {
    "colab": {
     "base_uri": "https://localhost:8080/"
    },
    "executionInfo": {
     "elapsed": 413,
     "status": "ok",
     "timestamp": 1706866488202,
     "user": {
      "displayName": "수댕구",
      "userId": "08176981148858936177"
     },
     "user_tz": -540
    },
    "id": "A_CaBp8E7m3j",
    "outputId": "492d7db3-2481-4a3c-9905-8e8b280d3e6c"
   },
   "outputs": [
    {
     "name": "stdout",
     "output_type": "stream",
     "text": [
      "Model: \"sequential_1\"\n",
      "_________________________________________________________________\n",
      " Layer (type)                Output Shape              Param #   \n",
      "=================================================================\n",
      " conv2d_3 (Conv2D)           (None, 26, 26, 32)        320       \n",
      "                                                                 \n",
      " max_pooling2d_2 (MaxPoolin  (None, 13, 13, 32)        0         \n",
      " g2D)                                                            \n",
      "                                                                 \n",
      " conv2d_4 (Conv2D)           (None, 11, 11, 64)        18496     \n",
      "                                                                 \n",
      " max_pooling2d_3 (MaxPoolin  (None, 5, 5, 64)          0         \n",
      " g2D)                                                            \n",
      "                                                                 \n",
      " conv2d_5 (Conv2D)           (None, 3, 3, 64)          36928     \n",
      "                                                                 \n",
      " flatten_1 (Flatten)         (None, 576)               0         \n",
      "                                                                 \n",
      " dense_2 (Dense)             (None, 64)                36928     \n",
      "                                                                 \n",
      " dense_3 (Dense)             (None, 10)                650       \n",
      "                                                                 \n",
      "=================================================================\n",
      "Total params: 93322 (364.54 KB)\n",
      "Trainable params: 93322 (364.54 KB)\n",
      "Non-trainable params: 0 (0.00 Byte)\n",
      "_________________________________________________________________\n"
     ]
    }
   ],
   "source": [
    "'''\n",
    "In this step, We can build classifier of MNIST dataset.\n",
    "For this step, we have to find algorithms for building classification.\n",
    "Find classification algorithms of datasets we dealt, and create a python code.\n",
    "'''\n",
    "import tensorflow as tf\n",
    "from tensorflow.keras import layers, models\n",
    "\n",
    "# Build the CNN model\n",
    "model = models.Sequential([\n",
    "    layers.Conv2D(32, (3, 3), activation='relu', input_shape=(28, 28, 1)),\n",
    "    layers.MaxPooling2D((2, 2)),\n",
    "    layers.Conv2D(64, (3, 3), activation='relu'),\n",
    "    layers.MaxPooling2D((2, 2)),\n",
    "    layers.Conv2D(64, (3, 3), activation='relu'),\n",
    "    layers.Flatten(),\n",
    "    layers.Dense(64, activation='relu'),\n",
    "    layers.Dense(10, activation='softmax')\n",
    "])\n",
    "\n",
    "# Compile the model\n",
    "model.compile(optimizer='adam',\n",
    "              loss='sparse_categorical_crossentropy',\n",
    "              metrics=['accuracy'])\n",
    "\n",
    "# Print model summary\n",
    "model.summary()\n"
   ]
  },
  {
   "cell_type": "code",
   "execution_count": 38,
   "metadata": {
    "colab": {
     "base_uri": "https://localhost:8080/"
    },
    "executionInfo": {
     "elapsed": 213093,
     "status": "ok",
     "timestamp": 1706867110361,
     "user": {
      "displayName": "수댕구",
      "userId": "08176981148858936177"
     },
     "user_tz": -540
    },
    "id": "gUEEueWB879s",
    "outputId": "202424d0-e87e-4062-f972-519fb81fce42"
   },
   "outputs": [
    {
     "name": "stdout",
     "output_type": "stream",
     "text": [
      "Epoch 1/5\n",
      "525/525 [==============================] - 4s 8ms/step - loss: 0.0234 - accuracy: 0.9927 - val_loss: 0.0451 - val_accuracy: 0.9845\n",
      "Epoch 2/5\n",
      "525/525 [==============================] - 4s 8ms/step - loss: 0.0201 - accuracy: 0.9936 - val_loss: 0.0422 - val_accuracy: 0.9875\n",
      "Epoch 3/5\n",
      "525/525 [==============================] - 4s 8ms/step - loss: 0.0175 - accuracy: 0.9942 - val_loss: 0.0502 - val_accuracy: 0.9857\n",
      "Epoch 4/5\n",
      "525/525 [==============================] - 4s 8ms/step - loss: 0.0148 - accuracy: 0.9949 - val_loss: 0.0336 - val_accuracy: 0.9893\n",
      "Epoch 5/5\n",
      "525/525 [==============================] - 4s 8ms/step - loss: 0.0113 - accuracy: 0.9964 - val_loss: 0.0345 - val_accuracy: 0.9902\n",
      "263/263 [==============================] - 0s 2ms/step\n"
     ]
    }
   ],
   "source": [
    "'''\n",
    "As Final step, we need to prediction file of classifier we built before.\n",
    "Train classifier we built, and make a prediction file of classifier for submit kaggle competition.\n",
    "'''\n",
    "import pandas as pd\n",
    "import numpy as np\n",
    "from sklearn.model_selection import train_test_split\n",
    "from sklearn.preprocessing import LabelEncoder\n",
    "from tensorflow.keras.datasets import mnist\n",
    "from tensorflow.keras.models import Sequential\n",
    "from tensorflow.keras.layers import Conv2D, MaxPooling2D, Flatten, Dense\n",
    "from tensorflow.keras.utils import to_categorical\n",
    "\n",
    "''' \n",
    "# Load the MNIST dataset\n",
    "(X_train, y_train), (X_test, _) = mnist.load_data()\n",
    "\n",
    "# Reshape and normalize the data\n",
    "X_train = X_train.reshape(-1, 28, 28, 1).astype('float32') / 255.0\n",
    "X_test = X_test.reshape(-1, 28, 28, 1).astype('float32') / 255.0\n",
    "\n",
    "# One-hot encode the labels\n",
    "y_train = to_categorical(y_train)\n",
    "\n",
    "# Split the training data into training and validation sets\n",
    "X_train, X_val, y_train, y_val = train_test_split(X_train, y_train, test_size=0.2, random_state=42)\n",
    "\n",
    "# Build the CNN model\n",
    "model = Sequential([\n",
    "    Conv2D(32, (3, 3), activation='relu', input_shape=(28, 28, 1)),\n",
    "    MaxPooling2D((2, 2)),\n",
    "    Conv2D(64, (3, 3), activation='relu'),\n",
    "    MaxPooling2D((2, 2)),\n",
    "    Conv2D(64, (3, 3), activation='relu'),\n",
    "    Flatten(),\n",
    "    Dense(64, activation='relu'),\n",
    "    Dense(10, activation='softmax')\n",
    "])\n",
    "\n",
    "# Compile the model\n",
    "model.compile(optimizer='adam', loss='categorical_crossentropy', metrics=['accuracy'])\n",
    "'''\n",
    "# Train the model\n",
    "model.fit(X_train, y_train, epochs=5, batch_size=64, validation_data=(X_val, y_val))\n",
    "\n",
    "# Make predictions on the test data\n",
    "predictions = model.predict(X_val)\n",
    "predicted_labels = np.argmax(predictions, axis=1)\n",
    "\n",
    "# Prepare the submission file\n",
    "submission_df = pd.DataFrame({\n",
    "    \"ImageId\": range(1, len(predicted_labels) + 1),\n",
    "    \"Label\": predicted_labels\n",
    "})\n",
    "\n",
    "# Save the submission file\n",
    "submission_df.to_csv(\"submission_prompt.csv\", index=False)\n",
    "\n",
    "# kaggle score : 0.9863"
   ]
  },
  {
   "cell_type": "code",
   "execution_count": 42,
   "metadata": {
    "colab": {
     "base_uri": "https://localhost:8080/"
    },
    "executionInfo": {
     "elapsed": 2354,
     "status": "ok",
     "timestamp": 1706867386090,
     "user": {
      "displayName": "수댕구",
      "userId": "08176981148858936177"
     },
     "user_tz": -540
    },
    "id": "cCt9BmzXBZ5f",
    "outputId": "a7fbe7d6-9d02-44ef-8e5f-f6e7543e0912"
   },
   "outputs": [
    {
     "name": "stdout",
     "output_type": "stream",
     "text": [
      "263/263 [==============================] - 0s 2ms/step\n"
     ]
    },
    {
     "data": {
      "text/plain": [
       "99.02"
      ]
     },
     "execution_count": 42,
     "metadata": {},
     "output_type": "execute_result"
    }
   ],
   "source": [
    "from sklearn.metrics import accuracy_score\n",
    "predict = model.predict(X_val)\n",
    "predicted_labels = np.argmax(predict, axis=1)\n",
    "acc = round(accuracy_score(y_val,predicted_labels)*100, 2)\n",
    "acc\n",
    "# test accuracy : 0.9881"
   ]
  },
  {
   "cell_type": "code",
   "execution_count": 43,
   "metadata": {},
   "outputs": [
    {
     "name": "stderr",
     "output_type": "stream",
     "text": [
      "/home/dummy/anaconda3/envs/python/lib/python3.9/site-packages/keras/src/engine/training.py:3000: UserWarning: You are saving your model as an HDF5 file via `model.save()`. This file format is considered legacy. We recommend using instead the native Keras format, e.g. `model.save('my_model.keras')`.\n",
      "  saving_api.save_model(\n"
     ]
    }
   ],
   "source": [
    "model.save('./gpt_cnn.h5')"
   ]
  },
  {
   "cell_type": "code",
   "execution_count": 12,
   "metadata": {
    "id": "zb0tQH5VORID"
   },
   "outputs": [],
   "source": [
    "sub = pd.read_csv('./submission_prompt.csv')"
   ]
  },
  {
   "cell_type": "code",
   "execution_count": 44,
   "metadata": {
    "scrolled": true
   },
   "outputs": [
    {
     "name": "stderr",
     "output_type": "stream",
     "text": [
      "[I 2024-11-08 17:43:03,275] A new study created in memory with name: no-name-dadae22a-b635-49e8-a364-5fee6115c6a2\n",
      "/tmp/ipykernel_26790/2503407502.py:44: FutureWarning: suggest_loguniform has been deprecated in v3.0.0. This feature will be removed in v6.0.0. See https://github.com/optuna/optuna/releases/tag/v3.0.0. Use suggest_float(..., log=True) instead.\n",
      "  model.compile(optimizer=Adam(learning_rate=trial.suggest_loguniform('learning_rate', 1e-5, 1e-2)),\n"
     ]
    },
    {
     "name": "stdout",
     "output_type": "stream",
     "text": [
      "263/263 [==============================] - 1s 2ms/step - loss: 0.2612 - accuracy: 0.9232\n"
     ]
    },
    {
     "name": "stderr",
     "output_type": "stream",
     "text": [
      "[I 2024-11-08 17:43:34,034] Trial 0 finished with value: 0.9232142567634583 and parameters: {'filters': 64, 'units': 128, 'learning_rate': 1.5253026505031117e-05}. Best is trial 0 with value: 0.9232142567634583.\n"
     ]
    },
    {
     "name": "stdout",
     "output_type": "stream",
     "text": [
      "263/263 [==============================] - 1s 2ms/step - loss: 0.0378 - accuracy: 0.9880\n"
     ]
    },
    {
     "name": "stderr",
     "output_type": "stream",
     "text": [
      "[I 2024-11-08 17:44:04,281] Trial 1 finished with value: 0.9879761934280396 and parameters: {'filters': 64, 'units': 128, 'learning_rate': 0.0020803865871640553}. Best is trial 1 with value: 0.9879761934280396.\n"
     ]
    },
    {
     "name": "stdout",
     "output_type": "stream",
     "text": [
      "263/263 [==============================] - 0s 1ms/step - loss: 0.0540 - accuracy: 0.9813\n"
     ]
    },
    {
     "name": "stderr",
     "output_type": "stream",
     "text": [
      "[I 2024-11-08 17:44:20,155] Trial 2 finished with value: 0.9813095331192017 and parameters: {'filters': 32, 'units': 128, 'learning_rate': 0.0033018979404409506}. Best is trial 1 with value: 0.9879761934280396.\n"
     ]
    },
    {
     "name": "stdout",
     "output_type": "stream",
     "text": [
      "263/263 [==============================] - 0s 1ms/step - loss: 0.1787 - accuracy: 0.9452\n"
     ]
    },
    {
     "name": "stderr",
     "output_type": "stream",
     "text": [
      "[I 2024-11-08 17:44:36,078] Trial 3 finished with value: 0.9452381134033203 and parameters: {'filters': 32, 'units': 128, 'learning_rate': 5.076261470480627e-05}. Best is trial 1 with value: 0.9879761934280396.\n"
     ]
    },
    {
     "name": "stdout",
     "output_type": "stream",
     "text": [
      "263/263 [==============================] - 0s 1ms/step - loss: 0.0485 - accuracy: 0.9854\n"
     ]
    },
    {
     "name": "stderr",
     "output_type": "stream",
     "text": [
      "[I 2024-11-08 17:44:51,600] Trial 4 finished with value: 0.9853571653366089 and parameters: {'filters': 32, 'units': 64, 'learning_rate': 0.004127272259247544}. Best is trial 1 with value: 0.9879761934280396.\n"
     ]
    },
    {
     "name": "stdout",
     "output_type": "stream",
     "text": [
      "263/263 [==============================] - 0s 1ms/step - loss: 0.3000 - accuracy: 0.9113\n"
     ]
    },
    {
     "name": "stderr",
     "output_type": "stream",
     "text": [
      "[I 2024-11-08 17:45:07,270] Trial 5 finished with value: 0.911309540271759 and parameters: {'filters': 32, 'units': 64, 'learning_rate': 2.4982270670040965e-05}. Best is trial 1 with value: 0.9879761934280396.\n"
     ]
    },
    {
     "name": "stdout",
     "output_type": "stream",
     "text": [
      "263/263 [==============================] - 0s 1ms/step - loss: 0.1059 - accuracy: 0.9688\n"
     ]
    },
    {
     "name": "stderr",
     "output_type": "stream",
     "text": [
      "[I 2024-11-08 17:45:23,040] Trial 6 finished with value: 0.9688095450401306 and parameters: {'filters': 32, 'units': 128, 'learning_rate': 0.00012020907912148591}. Best is trial 1 with value: 0.9879761934280396.\n"
     ]
    },
    {
     "name": "stdout",
     "output_type": "stream",
     "text": [
      "263/263 [==============================] - 1s 2ms/step - loss: 0.0362 - accuracy: 0.9879\n"
     ]
    },
    {
     "name": "stderr",
     "output_type": "stream",
     "text": [
      "[I 2024-11-08 17:45:53,639] Trial 7 finished with value: 0.9878571629524231 and parameters: {'filters': 64, 'units': 128, 'learning_rate': 0.0004957889957411818}. Best is trial 1 with value: 0.9879761934280396.\n"
     ]
    },
    {
     "name": "stdout",
     "output_type": "stream",
     "text": [
      "263/263 [==============================] - 1s 2ms/step - loss: 0.0923 - accuracy: 0.9724\n"
     ]
    },
    {
     "name": "stderr",
     "output_type": "stream",
     "text": [
      "[I 2024-11-08 17:46:24,316] Trial 8 finished with value: 0.9723809361457825 and parameters: {'filters': 64, 'units': 64, 'learning_rate': 0.00010870437340939411}. Best is trial 1 with value: 0.9879761934280396.\n"
     ]
    },
    {
     "name": "stdout",
     "output_type": "stream",
     "text": [
      "263/263 [==============================] - 0s 1ms/step - loss: 0.1245 - accuracy: 0.9618\n"
     ]
    },
    {
     "name": "stderr",
     "output_type": "stream",
     "text": [
      "[I 2024-11-08 17:46:40,596] Trial 9 finished with value: 0.9617857336997986 and parameters: {'filters': 32, 'units': 64, 'learning_rate': 0.00010598049147842297}. Best is trial 1 with value: 0.9879761934280396.\n"
     ]
    },
    {
     "name": "stdout",
     "output_type": "stream",
     "text": [
      "263/263 [==============================] - 1s 2ms/step - loss: 0.0419 - accuracy: 0.9874\n"
     ]
    },
    {
     "name": "stderr",
     "output_type": "stream",
     "text": [
      "[I 2024-11-08 17:47:11,722] Trial 10 finished with value: 0.9873809814453125 and parameters: {'filters': 64, 'units': 128, 'learning_rate': 0.0007632967232960517}. Best is trial 1 with value: 0.9879761934280396.\n"
     ]
    },
    {
     "name": "stdout",
     "output_type": "stream",
     "text": [
      "263/263 [==============================] - 1s 2ms/step - loss: 0.0381 - accuracy: 0.9885\n"
     ]
    },
    {
     "name": "stderr",
     "output_type": "stream",
     "text": [
      "[I 2024-11-08 17:47:42,608] Trial 11 finished with value: 0.9884523749351501 and parameters: {'filters': 64, 'units': 128, 'learning_rate': 0.0007566893077060498}. Best is trial 11 with value: 0.9884523749351501.\n"
     ]
    },
    {
     "name": "stdout",
     "output_type": "stream",
     "text": [
      "263/263 [==============================] - 1s 2ms/step - loss: 0.0484 - accuracy: 0.9863\n"
     ]
    },
    {
     "name": "stderr",
     "output_type": "stream",
     "text": [
      "[I 2024-11-08 17:48:14,235] Trial 12 finished with value: 0.9863095283508301 and parameters: {'filters': 64, 'units': 128, 'learning_rate': 0.0013402724409481718}. Best is trial 11 with value: 0.9884523749351501.\n"
     ]
    },
    {
     "name": "stdout",
     "output_type": "stream",
     "text": [
      "263/263 [==============================] - 1s 2ms/step - loss: 0.1013 - accuracy: 0.9752\n"
     ]
    },
    {
     "name": "stderr",
     "output_type": "stream",
     "text": [
      "[I 2024-11-08 17:48:45,079] Trial 13 finished with value: 0.9752380847930908 and parameters: {'filters': 64, 'units': 128, 'learning_rate': 0.008758840649639556}. Best is trial 11 with value: 0.9884523749351501.\n"
     ]
    },
    {
     "name": "stdout",
     "output_type": "stream",
     "text": [
      "263/263 [==============================] - 1s 2ms/step - loss: 0.0365 - accuracy: 0.9895\n"
     ]
    },
    {
     "name": "stderr",
     "output_type": "stream",
     "text": [
      "[I 2024-11-08 17:49:17,027] Trial 14 finished with value: 0.9895238280296326 and parameters: {'filters': 64, 'units': 128, 'learning_rate': 0.0012690501783642534}. Best is trial 14 with value: 0.9895238280296326.\n"
     ]
    },
    {
     "name": "stdout",
     "output_type": "stream",
     "text": [
      "263/263 [==============================] - 1s 2ms/step - loss: 0.0491 - accuracy: 0.9846\n"
     ]
    },
    {
     "name": "stderr",
     "output_type": "stream",
     "text": [
      "[I 2024-11-08 17:49:48,011] Trial 15 finished with value: 0.9846428632736206 and parameters: {'filters': 64, 'units': 128, 'learning_rate': 0.0002647283417049677}. Best is trial 14 with value: 0.9895238280296326.\n"
     ]
    },
    {
     "name": "stdout",
     "output_type": "stream",
     "text": [
      "263/263 [==============================] - 1s 2ms/step - loss: 0.0293 - accuracy: 0.9896\n"
     ]
    },
    {
     "name": "stderr",
     "output_type": "stream",
     "text": [
      "[I 2024-11-08 17:50:19,464] Trial 16 finished with value: 0.989642858505249 and parameters: {'filters': 64, 'units': 128, 'learning_rate': 0.0009465957930820496}. Best is trial 16 with value: 0.989642858505249.\n"
     ]
    },
    {
     "name": "stdout",
     "output_type": "stream",
     "text": [
      "263/263 [==============================] - 1s 3ms/step - loss: 0.0417 - accuracy: 0.9877\n"
     ]
    },
    {
     "name": "stderr",
     "output_type": "stream",
     "text": [
      "[I 2024-11-08 17:50:51,247] Trial 17 finished with value: 0.9877380728721619 and parameters: {'filters': 64, 'units': 128, 'learning_rate': 0.0014666222471662728}. Best is trial 16 with value: 0.989642858505249.\n"
     ]
    },
    {
     "name": "stdout",
     "output_type": "stream",
     "text": [
      "263/263 [==============================] - 1s 2ms/step - loss: 0.0548 - accuracy: 0.9813\n"
     ]
    },
    {
     "name": "stderr",
     "output_type": "stream",
     "text": [
      "[I 2024-11-08 17:51:22,641] Trial 18 finished with value: 0.9813095331192017 and parameters: {'filters': 64, 'units': 64, 'learning_rate': 0.0003257949427504687}. Best is trial 16 with value: 0.989642858505249.\n"
     ]
    },
    {
     "name": "stdout",
     "output_type": "stream",
     "text": [
      "263/263 [==============================] - 1s 2ms/step - loss: 0.0416 - accuracy: 0.9865\n"
     ]
    },
    {
     "name": "stderr",
     "output_type": "stream",
     "text": [
      "[I 2024-11-08 17:51:54,184] Trial 19 finished with value: 0.986547589302063 and parameters: {'filters': 64, 'units': 128, 'learning_rate': 0.0008894041826120524}. Best is trial 16 with value: 0.989642858505249.\n"
     ]
    },
    {
     "name": "stdout",
     "output_type": "stream",
     "text": [
      "263/263 [==============================] - 1s 3ms/step - loss: 0.0447 - accuracy: 0.9874\n"
     ]
    },
    {
     "name": "stderr",
     "output_type": "stream",
     "text": [
      "[I 2024-11-08 17:52:25,179] Trial 20 finished with value: 0.9873809814453125 and parameters: {'filters': 64, 'units': 128, 'learning_rate': 0.0029349076557565155}. Best is trial 16 with value: 0.989642858505249.\n"
     ]
    },
    {
     "name": "stdout",
     "output_type": "stream",
     "text": [
      "263/263 [==============================] - 1s 2ms/step - loss: 0.0389 - accuracy: 0.9876\n"
     ]
    },
    {
     "name": "stderr",
     "output_type": "stream",
     "text": [
      "[I 2024-11-08 17:52:57,274] Trial 21 finished with value: 0.9876190423965454 and parameters: {'filters': 64, 'units': 128, 'learning_rate': 0.0008078752541481641}. Best is trial 16 with value: 0.989642858505249.\n"
     ]
    },
    {
     "name": "stdout",
     "output_type": "stream",
     "text": [
      "263/263 [==============================] - 1s 2ms/step - loss: 0.0345 - accuracy: 0.9883\n"
     ]
    },
    {
     "name": "stderr",
     "output_type": "stream",
     "text": [
      "[I 2024-11-08 17:53:29,509] Trial 22 finished with value: 0.9883333444595337 and parameters: {'filters': 64, 'units': 128, 'learning_rate': 0.00045657743076938745}. Best is trial 16 with value: 0.989642858505249.\n"
     ]
    },
    {
     "name": "stdout",
     "output_type": "stream",
     "text": [
      "263/263 [==============================] - 1s 2ms/step - loss: 0.0397 - accuracy: 0.9886\n"
     ]
    },
    {
     "name": "stderr",
     "output_type": "stream",
     "text": [
      "[I 2024-11-08 17:54:00,666] Trial 23 finished with value: 0.9885714054107666 and parameters: {'filters': 64, 'units': 128, 'learning_rate': 0.001555561359343314}. Best is trial 16 with value: 0.989642858505249.\n"
     ]
    },
    {
     "name": "stdout",
     "output_type": "stream",
     "text": [
      "263/263 [==============================] - 1s 2ms/step - loss: 0.0452 - accuracy: 0.9874\n"
     ]
    },
    {
     "name": "stderr",
     "output_type": "stream",
     "text": [
      "[I 2024-11-08 17:54:32,015] Trial 24 finished with value: 0.9873809814453125 and parameters: {'filters': 64, 'units': 128, 'learning_rate': 0.001975370064103827}. Best is trial 16 with value: 0.989642858505249.\n"
     ]
    },
    {
     "name": "stdout",
     "output_type": "stream",
     "text": [
      "263/263 [==============================] - 1s 2ms/step - loss: 0.0464 - accuracy: 0.9880\n"
     ]
    },
    {
     "name": "stderr",
     "output_type": "stream",
     "text": [
      "[I 2024-11-08 17:55:02,873] Trial 25 finished with value: 0.9879761934280396 and parameters: {'filters': 64, 'units': 128, 'learning_rate': 0.001204731459633681}. Best is trial 16 with value: 0.989642858505249.\n"
     ]
    },
    {
     "name": "stdout",
     "output_type": "stream",
     "text": [
      "263/263 [==============================] - 1s 2ms/step - loss: 0.0615 - accuracy: 0.9836\n"
     ]
    },
    {
     "name": "stderr",
     "output_type": "stream",
     "text": [
      "[I 2024-11-08 17:55:33,840] Trial 26 finished with value: 0.9835714101791382 and parameters: {'filters': 64, 'units': 64, 'learning_rate': 0.004548668703861024}. Best is trial 16 with value: 0.989642858505249.\n"
     ]
    },
    {
     "name": "stdout",
     "output_type": "stream",
     "text": [
      "263/263 [==============================] - 1s 2ms/step - loss: 0.0655 - accuracy: 0.9800\n"
     ]
    },
    {
     "name": "stderr",
     "output_type": "stream",
     "text": [
      "[I 2024-11-08 17:56:05,219] Trial 27 finished with value: 0.9800000190734863 and parameters: {'filters': 64, 'units': 128, 'learning_rate': 0.0018920771088094866}. Best is trial 16 with value: 0.989642858505249.\n"
     ]
    },
    {
     "name": "stdout",
     "output_type": "stream",
     "text": [
      "263/263 [==============================] - 1s 2ms/step - loss: 0.0566 - accuracy: 0.9838\n"
     ]
    },
    {
     "name": "stderr",
     "output_type": "stream",
     "text": [
      "[I 2024-11-08 17:56:35,813] Trial 28 finished with value: 0.9838095307350159 and parameters: {'filters': 64, 'units': 128, 'learning_rate': 0.006451551588585867}. Best is trial 16 with value: 0.989642858505249.\n"
     ]
    },
    {
     "name": "stdout",
     "output_type": "stream",
     "text": [
      "263/263 [==============================] - 1s 2ms/step - loss: 0.0418 - accuracy: 0.9867\n"
     ]
    },
    {
     "name": "stderr",
     "output_type": "stream",
     "text": [
      "[I 2024-11-08 17:57:06,468] Trial 29 finished with value: 0.9866666793823242 and parameters: {'filters': 64, 'units': 128, 'learning_rate': 0.002855821159976857}. Best is trial 16 with value: 0.989642858505249.\n"
     ]
    },
    {
     "name": "stdout",
     "output_type": "stream",
     "text": [
      "263/263 [==============================] - 1s 2ms/step - loss: 0.0594 - accuracy: 0.9827\n"
     ]
    },
    {
     "name": "stderr",
     "output_type": "stream",
     "text": [
      "[I 2024-11-08 17:57:36,992] Trial 30 finished with value: 0.9827380776405334 and parameters: {'filters': 64, 'units': 128, 'learning_rate': 0.006349835488288894}. Best is trial 16 with value: 0.989642858505249.\n"
     ]
    },
    {
     "name": "stdout",
     "output_type": "stream",
     "text": [
      "263/263 [==============================] - 1s 2ms/step - loss: 0.0307 - accuracy: 0.9910\n"
     ]
    },
    {
     "name": "stderr",
     "output_type": "stream",
     "text": [
      "[I 2024-11-08 17:58:08,685] Trial 31 finished with value: 0.9909523725509644 and parameters: {'filters': 64, 'units': 128, 'learning_rate': 0.0010474073107695045}. Best is trial 31 with value: 0.9909523725509644.\n"
     ]
    },
    {
     "name": "stdout",
     "output_type": "stream",
     "text": [
      "263/263 [==============================] - 1s 2ms/step - loss: 0.0576 - accuracy: 0.9837\n"
     ]
    },
    {
     "name": "stderr",
     "output_type": "stream",
     "text": [
      "[I 2024-11-08 17:58:39,741] Trial 32 finished with value: 0.9836905002593994 and parameters: {'filters': 64, 'units': 128, 'learning_rate': 0.001256937192289936}. Best is trial 31 with value: 0.9909523725509644.\n"
     ]
    },
    {
     "name": "stdout",
     "output_type": "stream",
     "text": [
      "263/263 [==============================] - 1s 2ms/step - loss: 0.0340 - accuracy: 0.9892\n"
     ]
    },
    {
     "name": "stderr",
     "output_type": "stream",
     "text": [
      "[I 2024-11-08 17:59:10,166] Trial 33 finished with value: 0.9891666769981384 and parameters: {'filters': 64, 'units': 128, 'learning_rate': 0.002101653375668345}. Best is trial 31 with value: 0.9909523725509644.\n"
     ]
    },
    {
     "name": "stdout",
     "output_type": "stream",
     "text": [
      "263/263 [==============================] - 1s 2ms/step - loss: 0.0537 - accuracy: 0.9844\n"
     ]
    },
    {
     "name": "stderr",
     "output_type": "stream",
     "text": [
      "[I 2024-11-08 17:59:40,366] Trial 34 finished with value: 0.9844047427177429 and parameters: {'filters': 64, 'units': 128, 'learning_rate': 0.0024254619711710037}. Best is trial 31 with value: 0.9909523725509644.\n"
     ]
    },
    {
     "name": "stdout",
     "output_type": "stream",
     "text": [
      "263/263 [==============================] - 0s 1ms/step - loss: 0.0426 - accuracy: 0.9868\n"
     ]
    },
    {
     "name": "stderr",
     "output_type": "stream",
     "text": [
      "[I 2024-11-08 17:59:56,279] Trial 35 finished with value: 0.9867857098579407 and parameters: {'filters': 32, 'units': 128, 'learning_rate': 0.002064586443121964}. Best is trial 31 with value: 0.9909523725509644.\n"
     ]
    },
    {
     "name": "stdout",
     "output_type": "stream",
     "text": [
      "263/263 [==============================] - 1s 2ms/step - loss: 0.0620 - accuracy: 0.9813\n"
     ]
    },
    {
     "name": "stderr",
     "output_type": "stream",
     "text": [
      "[I 2024-11-08 18:00:26,661] Trial 36 finished with value: 0.9813095331192017 and parameters: {'filters': 64, 'units': 128, 'learning_rate': 0.003012685680068591}. Best is trial 31 with value: 0.9909523725509644.\n"
     ]
    },
    {
     "name": "stdout",
     "output_type": "stream",
     "text": [
      "263/263 [==============================] - 0s 1ms/step - loss: 0.0397 - accuracy: 0.9885\n"
     ]
    },
    {
     "name": "stderr",
     "output_type": "stream",
     "text": [
      "[I 2024-11-08 18:00:42,444] Trial 37 finished with value: 0.9884523749351501 and parameters: {'filters': 32, 'units': 64, 'learning_rate': 0.0011124447219501528}. Best is trial 31 with value: 0.9909523725509644.\n"
     ]
    },
    {
     "name": "stdout",
     "output_type": "stream",
     "text": [
      "263/263 [==============================] - 1s 2ms/step - loss: 0.0490 - accuracy: 0.9850\n"
     ]
    },
    {
     "name": "stderr",
     "output_type": "stream",
     "text": [
      "[I 2024-11-08 18:01:12,667] Trial 38 finished with value: 0.9850000143051147 and parameters: {'filters': 64, 'units': 128, 'learning_rate': 0.00398239599170105}. Best is trial 31 with value: 0.9909523725509644.\n"
     ]
    },
    {
     "name": "stdout",
     "output_type": "stream",
     "text": [
      "263/263 [==============================] - 1s 2ms/step - loss: 0.0461 - accuracy: 0.9863\n"
     ]
    },
    {
     "name": "stderr",
     "output_type": "stream",
     "text": [
      "[I 2024-11-08 18:01:43,070] Trial 39 finished with value: 0.9863095283508301 and parameters: {'filters': 64, 'units': 128, 'learning_rate': 0.0005519762553305455}. Best is trial 31 with value: 0.9909523725509644.\n"
     ]
    },
    {
     "name": "stdout",
     "output_type": "stream",
     "text": [
      "263/263 [==============================] - 0s 1ms/step - loss: 0.0408 - accuracy: 0.9867\n"
     ]
    },
    {
     "name": "stderr",
     "output_type": "stream",
     "text": [
      "[I 2024-11-08 18:01:58,879] Trial 40 finished with value: 0.9866666793823242 and parameters: {'filters': 32, 'units': 64, 'learning_rate': 0.0019955813056970707}. Best is trial 31 with value: 0.9909523725509644.\n"
     ]
    },
    {
     "name": "stdout",
     "output_type": "stream",
     "text": [
      "263/263 [==============================] - 1s 2ms/step - loss: 0.0387 - accuracy: 0.9888\n"
     ]
    },
    {
     "name": "stderr",
     "output_type": "stream",
     "text": [
      "[I 2024-11-08 18:02:29,170] Trial 41 finished with value: 0.9888095259666443 and parameters: {'filters': 64, 'units': 128, 'learning_rate': 0.0016055316667540076}. Best is trial 31 with value: 0.9909523725509644.\n"
     ]
    },
    {
     "name": "stdout",
     "output_type": "stream",
     "text": [
      "263/263 [==============================] - 1s 2ms/step - loss: 0.0369 - accuracy: 0.9875\n"
     ]
    },
    {
     "name": "stderr",
     "output_type": "stream",
     "text": [
      "[I 2024-11-08 18:02:59,514] Trial 42 finished with value: 0.987500011920929 and parameters: {'filters': 64, 'units': 128, 'learning_rate': 0.001006597139903799}. Best is trial 31 with value: 0.9909523725509644.\n"
     ]
    },
    {
     "name": "stdout",
     "output_type": "stream",
     "text": [
      "263/263 [==============================] - 1s 2ms/step - loss: 0.0474 - accuracy: 0.9835\n"
     ]
    },
    {
     "name": "stderr",
     "output_type": "stream",
     "text": [
      "[I 2024-11-08 18:03:29,796] Trial 43 finished with value: 0.9834523797035217 and parameters: {'filters': 64, 'units': 128, 'learning_rate': 0.001540090755693288}. Best is trial 31 with value: 0.9909523725509644.\n"
     ]
    },
    {
     "name": "stdout",
     "output_type": "stream",
     "text": [
      "263/263 [==============================] - 1s 2ms/step - loss: 0.0439 - accuracy: 0.9870\n"
     ]
    },
    {
     "name": "stderr",
     "output_type": "stream",
     "text": [
      "[I 2024-11-08 18:04:00,254] Trial 44 finished with value: 0.9870238304138184 and parameters: {'filters': 64, 'units': 128, 'learning_rate': 0.0006154705851201705}. Best is trial 31 with value: 0.9909523725509644.\n"
     ]
    },
    {
     "name": "stdout",
     "output_type": "stream",
     "text": [
      "263/263 [==============================] - 0s 1ms/step - loss: 0.0669 - accuracy: 0.9799\n"
     ]
    },
    {
     "name": "stderr",
     "output_type": "stream",
     "text": [
      "[I 2024-11-08 18:04:16,458] Trial 45 finished with value: 0.9798809289932251 and parameters: {'filters': 32, 'units': 128, 'learning_rate': 0.000983896353162026}. Best is trial 31 with value: 0.9909523725509644.\n"
     ]
    },
    {
     "name": "stdout",
     "output_type": "stream",
     "text": [
      "263/263 [==============================] - 1s 2ms/step - loss: 0.0459 - accuracy: 0.9873\n"
     ]
    },
    {
     "name": "stderr",
     "output_type": "stream",
     "text": [
      "[I 2024-11-08 18:04:46,867] Trial 46 finished with value: 0.9872618913650513 and parameters: {'filters': 64, 'units': 128, 'learning_rate': 0.0006581966094752257}. Best is trial 31 with value: 0.9909523725509644.\n"
     ]
    },
    {
     "name": "stdout",
     "output_type": "stream",
     "text": [
      "263/263 [==============================] - 1s 2ms/step - loss: 0.0379 - accuracy: 0.9896\n"
     ]
    },
    {
     "name": "stderr",
     "output_type": "stream",
     "text": [
      "[I 2024-11-08 18:05:17,097] Trial 47 finished with value: 0.989642858505249 and parameters: {'filters': 64, 'units': 128, 'learning_rate': 0.002384490702321765}. Best is trial 31 with value: 0.9909523725509644.\n"
     ]
    },
    {
     "name": "stdout",
     "output_type": "stream",
     "text": [
      "263/263 [==============================] - 1s 2ms/step - loss: 0.0396 - accuracy: 0.9879\n"
     ]
    },
    {
     "name": "stderr",
     "output_type": "stream",
     "text": [
      "[I 2024-11-08 18:05:47,497] Trial 48 finished with value: 0.9878571629524231 and parameters: {'filters': 64, 'units': 64, 'learning_rate': 0.0038187270016301826}. Best is trial 31 with value: 0.9909523725509644.\n"
     ]
    },
    {
     "name": "stdout",
     "output_type": "stream",
     "text": [
      "263/263 [==============================] - 1s 2ms/step - loss: 0.0358 - accuracy: 0.9890\n"
     ]
    },
    {
     "name": "stderr",
     "output_type": "stream",
     "text": [
      "[I 2024-11-08 18:06:19,223] Trial 49 finished with value: 0.989047646522522 and parameters: {'filters': 64, 'units': 128, 'learning_rate': 0.0022632580675899508}. Best is trial 31 with value: 0.9909523725509644.\n"
     ]
    },
    {
     "name": "stdout",
     "output_type": "stream",
     "text": [
      "Number of finished trials: 50\n",
      "Best trial:\n",
      "  Value: 0.99095\n",
      "  Params: \n",
      "    filters: 64\n",
      "    units: 128\n",
      "    learning_rate: 0.0010474073107695045\n"
     ]
    }
   ],
   "source": [
    "'''\n",
    "According to the above answer, use hyperparameter tuning technique for improving performance of classifier based on CNN algorithm. \n",
    "Find python tools for hyperparameter tuning with example code.\n",
    "'''\n",
    "import optuna\n",
    "from tensorflow.keras.models import Sequential\n",
    "from tensorflow.keras.layers import Conv2D, MaxPooling2D, Flatten, Dense, Dropout\n",
    "from tensorflow.keras.optimizers import Adam\n",
    "from tensorflow.keras.datasets import mnist\n",
    "\n",
    "'''\n",
    "# Load the MNIST dataset\n",
    "(X_train, y_train), (X_test, y_test) = mnist.load_data()\n",
    "\n",
    "# Preprocess the data\n",
    "X_train = X_train.reshape(-1, 28, 28, 1).astype('float32') / 255.0\n",
    "X_test = X_test.reshape(-1, 28, 28, 1).astype('float32') / 255.0\n",
    "'''\n",
    "\n",
    "# Define the objective function for Optuna\n",
    "def objective(trial):\n",
    "    # Define the model architecture\n",
    "    model = Sequential([\n",
    "        Conv2D(filters=trial.suggest_categorical('filters', [32, 64]),\n",
    "               kernel_size=(3, 3),\n",
    "               activation='relu',\n",
    "               input_shape=(28, 28, 1)),\n",
    "        MaxPooling2D(pool_size=(2, 2)),\n",
    "        Conv2D(filters=trial.suggest_categorical('filters', [32, 64]),\n",
    "               kernel_size=(3, 3),\n",
    "               activation='relu'),\n",
    "        MaxPooling2D(pool_size=(2, 2)),\n",
    "        Conv2D(filters=trial.suggest_categorical('filters', [32, 64]),\n",
    "               kernel_size=(3, 3),\n",
    "               activation='relu'),\n",
    "        Flatten(),\n",
    "        Dense(units=trial.suggest_categorical('units', [64, 128]),\n",
    "              activation='relu'),\n",
    "        #Dropout(rate=trial.suggest_uniform('dropout_rate', 0.2, 0.5)),\n",
    "        Dense(units=10, activation='softmax')\n",
    "    ])\n",
    "    \n",
    "    # Compile the model\n",
    "    model.compile(optimizer=Adam(learning_rate=trial.suggest_loguniform('learning_rate', 1e-5, 1e-2)),\n",
    "                  loss='sparse_categorical_crossentropy',\n",
    "                  metrics=['accuracy'])\n",
    "    \n",
    "    # Train the model\n",
    "    model.fit(X_train, y_train, epochs=5, batch_size=64, verbose=0, )\n",
    "    \n",
    "    # Evaluate the model on the test set\n",
    "    _, accuracy = model.evaluate(X_val, y_val)\n",
    "    \n",
    "    return accuracy\n",
    "\n",
    "# Perform hyperparameter optimization with Optuna\n",
    "study = optuna.create_study(direction='maximize')\n",
    "study.optimize(objective, n_trials=50)\n",
    "\n",
    "# Print the results\n",
    "print('Number of finished trials:', len(study.trials))\n",
    "print('Best trial:')\n",
    "trial = study.best_trial\n",
    "print('  Value: {:.5f}'.format(trial.value))\n",
    "print('  Params: ')\n",
    "for key, value in trial.params.items():\n",
    "    print('    {}: {}'.format(key, value))"
   ]
  },
  {
   "cell_type": "code",
   "execution_count": 48,
   "metadata": {},
   "outputs": [],
   "source": [
    "best_params = study.best_params"
   ]
  },
  {
   "cell_type": "code",
   "execution_count": 49,
   "metadata": {},
   "outputs": [
    {
     "data": {
      "text/plain": [
       "{'filters': 64, 'units': 128, 'learning_rate': 0.0010474073107695045}"
      ]
     },
     "execution_count": 49,
     "metadata": {},
     "output_type": "execute_result"
    }
   ],
   "source": [
    "best_params"
   ]
  },
  {
   "cell_type": "markdown",
   "metadata": {},
   "source": [
    "### Best Parameter\n",
    "Number of finished trials: 50\n",
    "Best trial:\n",
    "  Value: 0.99170\n",
    "  Params: \n",
    "    filters: 64\n",
    "    units: 64\n",
    "    learning_rate: 0.0021886389727523246"
   ]
  },
  {
   "cell_type": "code",
   "execution_count": 30,
   "metadata": {},
   "outputs": [],
   "source": [
    "best_params = study.best_params\n",
    "\n",
    "best_model = Sequential([\n",
    "        Conv2D(filters=best_params['filters'],\n",
    "               kernel_size=(3, 3),\n",
    "               activation='relu',\n",
    "               input_shape=(28, 28, 1)),\n",
    "        MaxPooling2D(pool_size=(2, 2)),\n",
    "        Conv2D(filters=study.best_params['filters'],\n",
    "               kernel_size=(3, 3),\n",
    "               activation='relu'),\n",
    "        MaxPooling2D(pool_size=(2, 2)),\n",
    "        Flatten(),\n",
    "        Dense(units=best_params['units'],\n",
    "              activation='relu'),\n",
    "        #Dropout(rate=trial.suggest_uniform('dropout_rate', 0.2, 0.5)),\n",
    "        Dense(units=10, activation='softmax')\n",
    "    ])\n",
    "best_model.compile(optimizer=Adam(learning_rate=best_params['learning_rate']),\n",
    "                  loss='sparse_categorical_crossentropy',\n",
    "                  metrics=['accuracy'])"
   ]
  },
  {
   "cell_type": "code",
   "execution_count": 31,
   "metadata": {},
   "outputs": [
    {
     "name": "stdout",
     "output_type": "stream",
     "text": [
      "Epoch 1/10\n",
      "1050/1050 [==============================] - 10s 9ms/step - loss: 0.1674 - accuracy: 0.9489\n",
      "Epoch 2/10\n",
      "1050/1050 [==============================] - 10s 9ms/step - loss: 0.0516 - accuracy: 0.9839\n",
      "Epoch 3/10\n",
      "1050/1050 [==============================] - 10s 9ms/step - loss: 0.0366 - accuracy: 0.9889\n",
      "Epoch 4/10\n",
      "1050/1050 [==============================] - 10s 10ms/step - loss: 0.0270 - accuracy: 0.9912\n",
      "Epoch 5/10\n",
      "1050/1050 [==============================] - 10s 10ms/step - loss: 0.0176 - accuracy: 0.9944\n",
      "Epoch 6/10\n",
      "1050/1050 [==============================] - 10s 9ms/step - loss: 0.0141 - accuracy: 0.9953\n",
      "Epoch 7/10\n",
      "1050/1050 [==============================] - 12s 11ms/step - loss: 0.0138 - accuracy: 0.9955\n",
      "Epoch 8/10\n",
      "1050/1050 [==============================] - 9s 8ms/step - loss: 0.0097 - accuracy: 0.9968\n",
      "Epoch 9/10\n",
      "1050/1050 [==============================] - 11s 10ms/step - loss: 0.0091 - accuracy: 0.9968\n",
      "Epoch 10/10\n",
      "1050/1050 [==============================] - 11s 10ms/step - loss: 0.0064 - accuracy: 0.9979\n",
      "263/263 [==============================] - 1s 2ms/step - loss: 0.0363 - accuracy: 0.9899\n"
     ]
    },
    {
     "data": {
      "text/plain": [
       "[0.03631014749407768, 0.9898809790611267]"
      ]
     },
     "execution_count": 31,
     "metadata": {},
     "output_type": "execute_result"
    }
   ],
   "source": [
    "best_model.fit(X_train, y_train, epochs=10)\n",
    "best_model.evaluate(X_test, y_test)\n",
    "# test accuracy : 0.9883"
   ]
  },
  {
   "cell_type": "code",
   "execution_count": 34,
   "metadata": {},
   "outputs": [
    {
     "name": "stderr",
     "output_type": "stream",
     "text": [
      "/home/dummy/anaconda3/envs/python/lib/python3.9/site-packages/keras/src/engine/training.py:3000: UserWarning: You are saving your model as an HDF5 file via `model.save()`. This file format is considered legacy. We recommend using instead the native Keras format, e.g. `model.save('my_model.keras')`.\n",
      "  saving_api.save_model(\n"
     ]
    }
   ],
   "source": [
    "best_model.save('./gpt_cnn_HP.h5')"
   ]
  },
  {
   "cell_type": "code",
   "execution_count": 32,
   "metadata": {},
   "outputs": [
    {
     "ename": "FileNotFoundError",
     "evalue": "[Errno 2] No such file or directory: './sample_submission.csv'",
     "output_type": "error",
     "traceback": [
      "\u001b[0;31m---------------------------------------------------------------------------\u001b[0m",
      "\u001b[0;31mFileNotFoundError\u001b[0m                         Traceback (most recent call last)",
      "Cell \u001b[0;32mIn[32], line 1\u001b[0m\n\u001b[0;32m----> 1\u001b[0m sub \u001b[38;5;241m=\u001b[39m \u001b[43mpd\u001b[49m\u001b[38;5;241;43m.\u001b[39;49m\u001b[43mread_csv\u001b[49m\u001b[43m(\u001b[49m\u001b[38;5;124;43m'\u001b[39;49m\u001b[38;5;124;43m./sample_submission.csv\u001b[39;49m\u001b[38;5;124;43m'\u001b[39;49m\u001b[43m)\u001b[49m\n\u001b[1;32m      2\u001b[0m sub\n",
      "File \u001b[0;32m~/anaconda3/envs/python/lib/python3.9/site-packages/pandas/util/_decorators.py:211\u001b[0m, in \u001b[0;36mdeprecate_kwarg.<locals>._deprecate_kwarg.<locals>.wrapper\u001b[0;34m(*args, **kwargs)\u001b[0m\n\u001b[1;32m    209\u001b[0m     \u001b[38;5;28;01melse\u001b[39;00m:\n\u001b[1;32m    210\u001b[0m         kwargs[new_arg_name] \u001b[38;5;241m=\u001b[39m new_arg_value\n\u001b[0;32m--> 211\u001b[0m \u001b[38;5;28;01mreturn\u001b[39;00m \u001b[43mfunc\u001b[49m\u001b[43m(\u001b[49m\u001b[38;5;241;43m*\u001b[39;49m\u001b[43margs\u001b[49m\u001b[43m,\u001b[49m\u001b[43m \u001b[49m\u001b[38;5;241;43m*\u001b[39;49m\u001b[38;5;241;43m*\u001b[39;49m\u001b[43mkwargs\u001b[49m\u001b[43m)\u001b[49m\n",
      "File \u001b[0;32m~/anaconda3/envs/python/lib/python3.9/site-packages/pandas/util/_decorators.py:331\u001b[0m, in \u001b[0;36mdeprecate_nonkeyword_arguments.<locals>.decorate.<locals>.wrapper\u001b[0;34m(*args, **kwargs)\u001b[0m\n\u001b[1;32m    325\u001b[0m \u001b[38;5;28;01mif\u001b[39;00m \u001b[38;5;28mlen\u001b[39m(args) \u001b[38;5;241m>\u001b[39m num_allow_args:\n\u001b[1;32m    326\u001b[0m     warnings\u001b[38;5;241m.\u001b[39mwarn(\n\u001b[1;32m    327\u001b[0m         msg\u001b[38;5;241m.\u001b[39mformat(arguments\u001b[38;5;241m=\u001b[39m_format_argument_list(allow_args)),\n\u001b[1;32m    328\u001b[0m         \u001b[38;5;167;01mFutureWarning\u001b[39;00m,\n\u001b[1;32m    329\u001b[0m         stacklevel\u001b[38;5;241m=\u001b[39mfind_stack_level(),\n\u001b[1;32m    330\u001b[0m     )\n\u001b[0;32m--> 331\u001b[0m \u001b[38;5;28;01mreturn\u001b[39;00m \u001b[43mfunc\u001b[49m\u001b[43m(\u001b[49m\u001b[38;5;241;43m*\u001b[39;49m\u001b[43margs\u001b[49m\u001b[43m,\u001b[49m\u001b[43m \u001b[49m\u001b[38;5;241;43m*\u001b[39;49m\u001b[38;5;241;43m*\u001b[39;49m\u001b[43mkwargs\u001b[49m\u001b[43m)\u001b[49m\n",
      "File \u001b[0;32m~/anaconda3/envs/python/lib/python3.9/site-packages/pandas/io/parsers/readers.py:950\u001b[0m, in \u001b[0;36mread_csv\u001b[0;34m(filepath_or_buffer, sep, delimiter, header, names, index_col, usecols, squeeze, prefix, mangle_dupe_cols, dtype, engine, converters, true_values, false_values, skipinitialspace, skiprows, skipfooter, nrows, na_values, keep_default_na, na_filter, verbose, skip_blank_lines, parse_dates, infer_datetime_format, keep_date_col, date_parser, dayfirst, cache_dates, iterator, chunksize, compression, thousands, decimal, lineterminator, quotechar, quoting, doublequote, escapechar, comment, encoding, encoding_errors, dialect, error_bad_lines, warn_bad_lines, on_bad_lines, delim_whitespace, low_memory, memory_map, float_precision, storage_options)\u001b[0m\n\u001b[1;32m    935\u001b[0m kwds_defaults \u001b[38;5;241m=\u001b[39m _refine_defaults_read(\n\u001b[1;32m    936\u001b[0m     dialect,\n\u001b[1;32m    937\u001b[0m     delimiter,\n\u001b[0;32m   (...)\u001b[0m\n\u001b[1;32m    946\u001b[0m     defaults\u001b[38;5;241m=\u001b[39m{\u001b[38;5;124m\"\u001b[39m\u001b[38;5;124mdelimiter\u001b[39m\u001b[38;5;124m\"\u001b[39m: \u001b[38;5;124m\"\u001b[39m\u001b[38;5;124m,\u001b[39m\u001b[38;5;124m\"\u001b[39m},\n\u001b[1;32m    947\u001b[0m )\n\u001b[1;32m    948\u001b[0m kwds\u001b[38;5;241m.\u001b[39mupdate(kwds_defaults)\n\u001b[0;32m--> 950\u001b[0m \u001b[38;5;28;01mreturn\u001b[39;00m \u001b[43m_read\u001b[49m\u001b[43m(\u001b[49m\u001b[43mfilepath_or_buffer\u001b[49m\u001b[43m,\u001b[49m\u001b[43m \u001b[49m\u001b[43mkwds\u001b[49m\u001b[43m)\u001b[49m\n",
      "File \u001b[0;32m~/anaconda3/envs/python/lib/python3.9/site-packages/pandas/io/parsers/readers.py:605\u001b[0m, in \u001b[0;36m_read\u001b[0;34m(filepath_or_buffer, kwds)\u001b[0m\n\u001b[1;32m    602\u001b[0m _validate_names(kwds\u001b[38;5;241m.\u001b[39mget(\u001b[38;5;124m\"\u001b[39m\u001b[38;5;124mnames\u001b[39m\u001b[38;5;124m\"\u001b[39m, \u001b[38;5;28;01mNone\u001b[39;00m))\n\u001b[1;32m    604\u001b[0m \u001b[38;5;66;03m# Create the parser.\u001b[39;00m\n\u001b[0;32m--> 605\u001b[0m parser \u001b[38;5;241m=\u001b[39m \u001b[43mTextFileReader\u001b[49m\u001b[43m(\u001b[49m\u001b[43mfilepath_or_buffer\u001b[49m\u001b[43m,\u001b[49m\u001b[43m \u001b[49m\u001b[38;5;241;43m*\u001b[39;49m\u001b[38;5;241;43m*\u001b[39;49m\u001b[43mkwds\u001b[49m\u001b[43m)\u001b[49m\n\u001b[1;32m    607\u001b[0m \u001b[38;5;28;01mif\u001b[39;00m chunksize \u001b[38;5;129;01mor\u001b[39;00m iterator:\n\u001b[1;32m    608\u001b[0m     \u001b[38;5;28;01mreturn\u001b[39;00m parser\n",
      "File \u001b[0;32m~/anaconda3/envs/python/lib/python3.9/site-packages/pandas/io/parsers/readers.py:1442\u001b[0m, in \u001b[0;36mTextFileReader.__init__\u001b[0;34m(self, f, engine, **kwds)\u001b[0m\n\u001b[1;32m   1439\u001b[0m     \u001b[38;5;28mself\u001b[39m\u001b[38;5;241m.\u001b[39moptions[\u001b[38;5;124m\"\u001b[39m\u001b[38;5;124mhas_index_names\u001b[39m\u001b[38;5;124m\"\u001b[39m] \u001b[38;5;241m=\u001b[39m kwds[\u001b[38;5;124m\"\u001b[39m\u001b[38;5;124mhas_index_names\u001b[39m\u001b[38;5;124m\"\u001b[39m]\n\u001b[1;32m   1441\u001b[0m \u001b[38;5;28mself\u001b[39m\u001b[38;5;241m.\u001b[39mhandles: IOHandles \u001b[38;5;241m|\u001b[39m \u001b[38;5;28;01mNone\u001b[39;00m \u001b[38;5;241m=\u001b[39m \u001b[38;5;28;01mNone\u001b[39;00m\n\u001b[0;32m-> 1442\u001b[0m \u001b[38;5;28mself\u001b[39m\u001b[38;5;241m.\u001b[39m_engine \u001b[38;5;241m=\u001b[39m \u001b[38;5;28;43mself\u001b[39;49m\u001b[38;5;241;43m.\u001b[39;49m\u001b[43m_make_engine\u001b[49m\u001b[43m(\u001b[49m\u001b[43mf\u001b[49m\u001b[43m,\u001b[49m\u001b[43m \u001b[49m\u001b[38;5;28;43mself\u001b[39;49m\u001b[38;5;241;43m.\u001b[39;49m\u001b[43mengine\u001b[49m\u001b[43m)\u001b[49m\n",
      "File \u001b[0;32m~/anaconda3/envs/python/lib/python3.9/site-packages/pandas/io/parsers/readers.py:1735\u001b[0m, in \u001b[0;36mTextFileReader._make_engine\u001b[0;34m(self, f, engine)\u001b[0m\n\u001b[1;32m   1733\u001b[0m     \u001b[38;5;28;01mif\u001b[39;00m \u001b[38;5;124m\"\u001b[39m\u001b[38;5;124mb\u001b[39m\u001b[38;5;124m\"\u001b[39m \u001b[38;5;129;01mnot\u001b[39;00m \u001b[38;5;129;01min\u001b[39;00m mode:\n\u001b[1;32m   1734\u001b[0m         mode \u001b[38;5;241m+\u001b[39m\u001b[38;5;241m=\u001b[39m \u001b[38;5;124m\"\u001b[39m\u001b[38;5;124mb\u001b[39m\u001b[38;5;124m\"\u001b[39m\n\u001b[0;32m-> 1735\u001b[0m \u001b[38;5;28mself\u001b[39m\u001b[38;5;241m.\u001b[39mhandles \u001b[38;5;241m=\u001b[39m \u001b[43mget_handle\u001b[49m\u001b[43m(\u001b[49m\n\u001b[1;32m   1736\u001b[0m \u001b[43m    \u001b[49m\u001b[43mf\u001b[49m\u001b[43m,\u001b[49m\n\u001b[1;32m   1737\u001b[0m \u001b[43m    \u001b[49m\u001b[43mmode\u001b[49m\u001b[43m,\u001b[49m\n\u001b[1;32m   1738\u001b[0m \u001b[43m    \u001b[49m\u001b[43mencoding\u001b[49m\u001b[38;5;241;43m=\u001b[39;49m\u001b[38;5;28;43mself\u001b[39;49m\u001b[38;5;241;43m.\u001b[39;49m\u001b[43moptions\u001b[49m\u001b[38;5;241;43m.\u001b[39;49m\u001b[43mget\u001b[49m\u001b[43m(\u001b[49m\u001b[38;5;124;43m\"\u001b[39;49m\u001b[38;5;124;43mencoding\u001b[39;49m\u001b[38;5;124;43m\"\u001b[39;49m\u001b[43m,\u001b[49m\u001b[43m \u001b[49m\u001b[38;5;28;43;01mNone\u001b[39;49;00m\u001b[43m)\u001b[49m\u001b[43m,\u001b[49m\n\u001b[1;32m   1739\u001b[0m \u001b[43m    \u001b[49m\u001b[43mcompression\u001b[49m\u001b[38;5;241;43m=\u001b[39;49m\u001b[38;5;28;43mself\u001b[39;49m\u001b[38;5;241;43m.\u001b[39;49m\u001b[43moptions\u001b[49m\u001b[38;5;241;43m.\u001b[39;49m\u001b[43mget\u001b[49m\u001b[43m(\u001b[49m\u001b[38;5;124;43m\"\u001b[39;49m\u001b[38;5;124;43mcompression\u001b[39;49m\u001b[38;5;124;43m\"\u001b[39;49m\u001b[43m,\u001b[49m\u001b[43m \u001b[49m\u001b[38;5;28;43;01mNone\u001b[39;49;00m\u001b[43m)\u001b[49m\u001b[43m,\u001b[49m\n\u001b[1;32m   1740\u001b[0m \u001b[43m    \u001b[49m\u001b[43mmemory_map\u001b[49m\u001b[38;5;241;43m=\u001b[39;49m\u001b[38;5;28;43mself\u001b[39;49m\u001b[38;5;241;43m.\u001b[39;49m\u001b[43moptions\u001b[49m\u001b[38;5;241;43m.\u001b[39;49m\u001b[43mget\u001b[49m\u001b[43m(\u001b[49m\u001b[38;5;124;43m\"\u001b[39;49m\u001b[38;5;124;43mmemory_map\u001b[39;49m\u001b[38;5;124;43m\"\u001b[39;49m\u001b[43m,\u001b[49m\u001b[43m \u001b[49m\u001b[38;5;28;43;01mFalse\u001b[39;49;00m\u001b[43m)\u001b[49m\u001b[43m,\u001b[49m\n\u001b[1;32m   1741\u001b[0m \u001b[43m    \u001b[49m\u001b[43mis_text\u001b[49m\u001b[38;5;241;43m=\u001b[39;49m\u001b[43mis_text\u001b[49m\u001b[43m,\u001b[49m\n\u001b[1;32m   1742\u001b[0m \u001b[43m    \u001b[49m\u001b[43merrors\u001b[49m\u001b[38;5;241;43m=\u001b[39;49m\u001b[38;5;28;43mself\u001b[39;49m\u001b[38;5;241;43m.\u001b[39;49m\u001b[43moptions\u001b[49m\u001b[38;5;241;43m.\u001b[39;49m\u001b[43mget\u001b[49m\u001b[43m(\u001b[49m\u001b[38;5;124;43m\"\u001b[39;49m\u001b[38;5;124;43mencoding_errors\u001b[39;49m\u001b[38;5;124;43m\"\u001b[39;49m\u001b[43m,\u001b[49m\u001b[43m \u001b[49m\u001b[38;5;124;43m\"\u001b[39;49m\u001b[38;5;124;43mstrict\u001b[39;49m\u001b[38;5;124;43m\"\u001b[39;49m\u001b[43m)\u001b[49m\u001b[43m,\u001b[49m\n\u001b[1;32m   1743\u001b[0m \u001b[43m    \u001b[49m\u001b[43mstorage_options\u001b[49m\u001b[38;5;241;43m=\u001b[39;49m\u001b[38;5;28;43mself\u001b[39;49m\u001b[38;5;241;43m.\u001b[39;49m\u001b[43moptions\u001b[49m\u001b[38;5;241;43m.\u001b[39;49m\u001b[43mget\u001b[49m\u001b[43m(\u001b[49m\u001b[38;5;124;43m\"\u001b[39;49m\u001b[38;5;124;43mstorage_options\u001b[39;49m\u001b[38;5;124;43m\"\u001b[39;49m\u001b[43m,\u001b[49m\u001b[43m \u001b[49m\u001b[38;5;28;43;01mNone\u001b[39;49;00m\u001b[43m)\u001b[49m\u001b[43m,\u001b[49m\n\u001b[1;32m   1744\u001b[0m \u001b[43m\u001b[49m\u001b[43m)\u001b[49m\n\u001b[1;32m   1745\u001b[0m \u001b[38;5;28;01massert\u001b[39;00m \u001b[38;5;28mself\u001b[39m\u001b[38;5;241m.\u001b[39mhandles \u001b[38;5;129;01mis\u001b[39;00m \u001b[38;5;129;01mnot\u001b[39;00m \u001b[38;5;28;01mNone\u001b[39;00m\n\u001b[1;32m   1746\u001b[0m f \u001b[38;5;241m=\u001b[39m \u001b[38;5;28mself\u001b[39m\u001b[38;5;241m.\u001b[39mhandles\u001b[38;5;241m.\u001b[39mhandle\n",
      "File \u001b[0;32m~/anaconda3/envs/python/lib/python3.9/site-packages/pandas/io/common.py:856\u001b[0m, in \u001b[0;36mget_handle\u001b[0;34m(path_or_buf, mode, encoding, compression, memory_map, is_text, errors, storage_options)\u001b[0m\n\u001b[1;32m    851\u001b[0m \u001b[38;5;28;01melif\u001b[39;00m \u001b[38;5;28misinstance\u001b[39m(handle, \u001b[38;5;28mstr\u001b[39m):\n\u001b[1;32m    852\u001b[0m     \u001b[38;5;66;03m# Check whether the filename is to be opened in binary mode.\u001b[39;00m\n\u001b[1;32m    853\u001b[0m     \u001b[38;5;66;03m# Binary mode does not support 'encoding' and 'newline'.\u001b[39;00m\n\u001b[1;32m    854\u001b[0m     \u001b[38;5;28;01mif\u001b[39;00m ioargs\u001b[38;5;241m.\u001b[39mencoding \u001b[38;5;129;01mand\u001b[39;00m \u001b[38;5;124m\"\u001b[39m\u001b[38;5;124mb\u001b[39m\u001b[38;5;124m\"\u001b[39m \u001b[38;5;129;01mnot\u001b[39;00m \u001b[38;5;129;01min\u001b[39;00m ioargs\u001b[38;5;241m.\u001b[39mmode:\n\u001b[1;32m    855\u001b[0m         \u001b[38;5;66;03m# Encoding\u001b[39;00m\n\u001b[0;32m--> 856\u001b[0m         handle \u001b[38;5;241m=\u001b[39m \u001b[38;5;28;43mopen\u001b[39;49m\u001b[43m(\u001b[49m\n\u001b[1;32m    857\u001b[0m \u001b[43m            \u001b[49m\u001b[43mhandle\u001b[49m\u001b[43m,\u001b[49m\n\u001b[1;32m    858\u001b[0m \u001b[43m            \u001b[49m\u001b[43mioargs\u001b[49m\u001b[38;5;241;43m.\u001b[39;49m\u001b[43mmode\u001b[49m\u001b[43m,\u001b[49m\n\u001b[1;32m    859\u001b[0m \u001b[43m            \u001b[49m\u001b[43mencoding\u001b[49m\u001b[38;5;241;43m=\u001b[39;49m\u001b[43mioargs\u001b[49m\u001b[38;5;241;43m.\u001b[39;49m\u001b[43mencoding\u001b[49m\u001b[43m,\u001b[49m\n\u001b[1;32m    860\u001b[0m \u001b[43m            \u001b[49m\u001b[43merrors\u001b[49m\u001b[38;5;241;43m=\u001b[39;49m\u001b[43merrors\u001b[49m\u001b[43m,\u001b[49m\n\u001b[1;32m    861\u001b[0m \u001b[43m            \u001b[49m\u001b[43mnewline\u001b[49m\u001b[38;5;241;43m=\u001b[39;49m\u001b[38;5;124;43m\"\u001b[39;49m\u001b[38;5;124;43m\"\u001b[39;49m\u001b[43m,\u001b[49m\n\u001b[1;32m    862\u001b[0m \u001b[43m        \u001b[49m\u001b[43m)\u001b[49m\n\u001b[1;32m    863\u001b[0m     \u001b[38;5;28;01melse\u001b[39;00m:\n\u001b[1;32m    864\u001b[0m         \u001b[38;5;66;03m# Binary mode\u001b[39;00m\n\u001b[1;32m    865\u001b[0m         handle \u001b[38;5;241m=\u001b[39m \u001b[38;5;28mopen\u001b[39m(handle, ioargs\u001b[38;5;241m.\u001b[39mmode)\n",
      "\u001b[0;31mFileNotFoundError\u001b[0m: [Errno 2] No such file or directory: './sample_submission.csv'"
     ]
    }
   ],
   "source": [
    "sub = pd.read_csv('./sample_submission.csv')\n",
    "sub"
   ]
  },
  {
   "cell_type": "code",
   "execution_count": 33,
   "metadata": {},
   "outputs": [
    {
     "name": "stdout",
     "output_type": "stream",
     "text": [
      "263/263 [==============================] - 1s 2ms/step\n"
     ]
    },
    {
     "ename": "NameError",
     "evalue": "name 'sub' is not defined",
     "output_type": "error",
     "traceback": [
      "\u001b[0;31m---------------------------------------------------------------------------\u001b[0m",
      "\u001b[0;31mNameError\u001b[0m                                 Traceback (most recent call last)",
      "Cell \u001b[0;32mIn[33], line 3\u001b[0m\n\u001b[1;32m      1\u001b[0m y_pred \u001b[38;5;241m=\u001b[39m best_model\u001b[38;5;241m.\u001b[39mpredict(X_test)\n\u001b[1;32m      2\u001b[0m submission_df \u001b[38;5;241m=\u001b[39m pd\u001b[38;5;241m.\u001b[39mDataFrame({\n\u001b[0;32m----> 3\u001b[0m     \u001b[38;5;124m\"\u001b[39m\u001b[38;5;124mImageId\u001b[39m\u001b[38;5;124m\"\u001b[39m: \u001b[43msub\u001b[49m[\u001b[38;5;124m'\u001b[39m\u001b[38;5;124mImageId\u001b[39m\u001b[38;5;124m'\u001b[39m],\n\u001b[1;32m      4\u001b[0m     \u001b[38;5;124m\"\u001b[39m\u001b[38;5;124mLabel\u001b[39m\u001b[38;5;124m\"\u001b[39m: y_pred\u001b[38;5;241m.\u001b[39margmax(axis \u001b[38;5;241m=\u001b[39m \u001b[38;5;241m1\u001b[39m)\n\u001b[1;32m      5\u001b[0m })\n\u001b[1;32m      6\u001b[0m submission_df\u001b[38;5;241m.\u001b[39mto_csv(\u001b[38;5;124m'\u001b[39m\u001b[38;5;124msubmission_gpt_optimization.csv\u001b[39m\u001b[38;5;124m'\u001b[39m, index\u001b[38;5;241m=\u001b[39m \u001b[38;5;28;01mFalse\u001b[39;00m)\n",
      "\u001b[0;31mNameError\u001b[0m: name 'sub' is not defined"
     ]
    }
   ],
   "source": [
    "y_pred = best_model.predict(X_test)\n",
    "submission_df = pd.DataFrame({\n",
    "    \"ImageId\": sub['ImageId'],\n",
    "    \"Label\": y_pred.argmax(axis = 1)\n",
    "})\n",
    "submission_df.to_csv('submission_gpt_optimization.csv', index= False)\n",
    "# kaggle score : 0.996"
   ]
  },
  {
   "cell_type": "code",
   "execution_count": 45,
   "metadata": {},
   "outputs": [
    {
     "data": {
      "text/plain": [
       "28000"
      ]
     },
     "execution_count": 45,
     "metadata": {},
     "output_type": "execute_result"
    }
   ],
   "source": [
    "len(y_pred)"
   ]
  },
  {
   "cell_type": "code",
   "execution_count": 23,
   "metadata": {},
   "outputs": [
    {
     "data": {
      "text/plain": [
       "array([7, 2, 1, ..., 4, 5, 6])"
      ]
     },
     "execution_count": 23,
     "metadata": {},
     "output_type": "execute_result"
    }
   ],
   "source": [
    "y_pred.argmax(axis = 1)"
   ]
  },
  {
   "cell_type": "code",
   "execution_count": 31,
   "metadata": {},
   "outputs": [
    {
     "data": {
      "text/html": [
       "<div>\n",
       "<style scoped>\n",
       "    .dataframe tbody tr th:only-of-type {\n",
       "        vertical-align: middle;\n",
       "    }\n",
       "\n",
       "    .dataframe tbody tr th {\n",
       "        vertical-align: top;\n",
       "    }\n",
       "\n",
       "    .dataframe thead th {\n",
       "        text-align: right;\n",
       "    }\n",
       "</style>\n",
       "<table border=\"1\" class=\"dataframe\">\n",
       "  <thead>\n",
       "    <tr style=\"text-align: right;\">\n",
       "      <th></th>\n",
       "      <th>ImageId</th>\n",
       "      <th>Label</th>\n",
       "    </tr>\n",
       "  </thead>\n",
       "  <tbody>\n",
       "    <tr>\n",
       "      <th>0</th>\n",
       "      <td>1</td>\n",
       "      <td>2</td>\n",
       "    </tr>\n",
       "    <tr>\n",
       "      <th>1</th>\n",
       "      <td>2</td>\n",
       "      <td>0</td>\n",
       "    </tr>\n",
       "    <tr>\n",
       "      <th>2</th>\n",
       "      <td>3</td>\n",
       "      <td>9</td>\n",
       "    </tr>\n",
       "    <tr>\n",
       "      <th>3</th>\n",
       "      <td>4</td>\n",
       "      <td>0</td>\n",
       "    </tr>\n",
       "    <tr>\n",
       "      <th>4</th>\n",
       "      <td>5</td>\n",
       "      <td>3</td>\n",
       "    </tr>\n",
       "    <tr>\n",
       "      <th>...</th>\n",
       "      <td>...</td>\n",
       "      <td>...</td>\n",
       "    </tr>\n",
       "    <tr>\n",
       "      <th>27995</th>\n",
       "      <td>27996</td>\n",
       "      <td>9</td>\n",
       "    </tr>\n",
       "    <tr>\n",
       "      <th>27996</th>\n",
       "      <td>27997</td>\n",
       "      <td>7</td>\n",
       "    </tr>\n",
       "    <tr>\n",
       "      <th>27997</th>\n",
       "      <td>27998</td>\n",
       "      <td>3</td>\n",
       "    </tr>\n",
       "    <tr>\n",
       "      <th>27998</th>\n",
       "      <td>27999</td>\n",
       "      <td>9</td>\n",
       "    </tr>\n",
       "    <tr>\n",
       "      <th>27999</th>\n",
       "      <td>28000</td>\n",
       "      <td>2</td>\n",
       "    </tr>\n",
       "  </tbody>\n",
       "</table>\n",
       "<p>28000 rows × 2 columns</p>\n",
       "</div>"
      ],
      "text/plain": [
       "       ImageId  Label\n",
       "0            1      2\n",
       "1            2      0\n",
       "2            3      9\n",
       "3            4      0\n",
       "4            5      3\n",
       "...        ...    ...\n",
       "27995    27996      9\n",
       "27996    27997      7\n",
       "27997    27998      3\n",
       "27998    27999      9\n",
       "27999    28000      2\n",
       "\n",
       "[28000 rows x 2 columns]"
      ]
     },
     "execution_count": 31,
     "metadata": {},
     "output_type": "execute_result"
    }
   ],
   "source": [
    "test = pd.read_csv('./submission_gpt_optimization.csv')\n",
    "test"
   ]
  },
  {
   "cell_type": "code",
   "execution_count": null,
   "metadata": {},
   "outputs": [],
   "source": []
  }
 ],
 "metadata": {
  "colab": {
   "authorship_tag": "ABX9TyONweKvq8ye2wJX5mD66Dji",
   "mount_file_id": "1FMQxRfS5MDWAifhdYvNtTwpv2C-VdUJ7",
   "provenance": []
  },
  "kernelspec": {
   "display_name": "Python 3 (ipykernel)",
   "language": "python",
   "name": "python3"
  },
  "language_info": {
   "codemirror_mode": {
    "name": "ipython",
    "version": 3
   },
   "file_extension": ".py",
   "mimetype": "text/x-python",
   "name": "python",
   "nbconvert_exporter": "python",
   "pygments_lexer": "ipython3",
   "version": "3.9.17"
  }
 },
 "nbformat": 4,
 "nbformat_minor": 4
}
